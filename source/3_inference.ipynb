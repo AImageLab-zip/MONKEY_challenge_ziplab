{
 "cells": [
  {
   "cell_type": "markdown",
   "id": "bf5abbf4-91c4-495d-a0e1-5791544d3ba4",
   "metadata": {},
   "source": [
    "# Step 3: Creating the model inference script\n",
    "To submit your algorithm to the challenge, you need to create an inference docker container. "
   ]
  },
  {
   "cell_type": "code",
   "execution_count": 1,
   "id": "a84728b1-6166-400b-8ff7-312fc87145bb",
   "metadata": {},
   "outputs": [],
   "source": [
    "import os\n",
    "import json\n",
    "import torch\n",
    "import creationism\n",
    "from tqdm import tqdm\n",
    "\n",
    "from wholeslidedata.interoperability.asap.annotationwriter import write_point_set\n",
    "from wholeslidedata.image.wholeslideimage import WholeSlideImage\n",
    "from wholeslidedata.iterators import create_patch_iterator, PatchConfiguration\n",
    "from wholeslidedata.annotation.labels import Label\n",
    "\n",
    "from utils.wsdetectron2 import Detectron2DetectionPredictor\n",
    "from utils.structures import Point"
   ]
  },
  {
   "cell_type": "code",
   "execution_count": 3,
   "id": "f24b90e3",
   "metadata": {},
   "outputs": [
    {
     "name": "stdout",
     "output_type": "stream",
     "text": [
      "/workspace\n"
     ]
    }
   ],
   "source": [
    "# set up path one level above\n",
    "os.chdir('..')\n",
    "print(os.getcwd())"
   ]
  },
  {
   "cell_type": "markdown",
   "id": "49fcf108-70f5-4339-be0e-358e07909d3a",
   "metadata": {},
   "source": [
    "Setting up the paths."
   ]
  },
  {
   "cell_type": "code",
   "execution_count": 4,
   "id": "00f91aee-5195-4366-9c2d-73542eb65e7a",
   "metadata": {},
   "outputs": [
    {
     "name": "stdout",
     "output_type": "stream",
     "text": [
      "Pytorch GPU available: True\n",
      "./data/monkey-data/images/pas-cpg/A_P000002_PAS_CPG.tif ./data/monkey-data/images/tissue-masks/A_P000002_mask.tif\n"
     ]
    }
   ],
   "source": [
    "image_path = r'./data/monkey-data/images/pas-cpg/A_P000002_PAS_CPG.tif'\n",
    "mask_path = r'./data/monkey-data/images/tissue-masks/A_P000002_mask.tif'\n",
    "output_path = r\"./outputs/results\"\n",
    "if not(os.path.isdir(output_path)): os.mkdir (output_path) \n",
    "json_filename = \"detected-lymphocytes.json\"\n",
    "\n",
    "print(f\"Pytorch GPU available: {torch.cuda.is_available()}\")\n",
    "print(image_path, mask_path)"
   ]
  },
  {
   "cell_type": "markdown",
   "id": "1fd1031a-b590-4917-86e1-768a31a71147",
   "metadata": {},
   "source": [
    "Defining patch configuration for each image."
   ]
  },
  {
   "cell_type": "code",
   "execution_count": 5,
   "id": "3f99bab4-b6e2-45fc-9b5d-1ff12437b136",
   "metadata": {},
   "outputs": [],
   "source": [
    "patch_shape=(128,128,3)\n",
    "spacings=(0.5,)\n",
    "overlap=(0,0)\n",
    "offset=(0,0)\n",
    "center=False\n",
    "\n",
    "patch_configuration = PatchConfiguration(patch_shape=patch_shape,\n",
    "                                         spacings=spacings,\n",
    "                                         overlap=overlap,\n",
    "                                         offset=offset,\n",
    "                                         center=center)"
   ]
  },
  {
   "cell_type": "markdown",
   "id": "a86930aa-5184-46c1-b9c0-13e723d56bdb",
   "metadata": {},
   "source": [
    "Loading the saved model."
   ]
  },
  {
   "cell_type": "code",
   "execution_count": 6,
   "id": "4122d05f-8153-4dde-9abf-362b8311217b",
   "metadata": {},
   "outputs": [],
   "source": [
    "model = Detectron2DetectionPredictor(\n",
    "    output_dir=output_path,\n",
    "    threshold= 0.1,\n",
    "    nms_threshold=0.3,\n",
    "    weight_root = \"./outputs/model_final.pth\"\n",
    ")"
   ]
  },
  {
   "cell_type": "markdown",
   "id": "d4167cee-bdb9-4f8a-9103-e97c9ce31ac0",
   "metadata": {},
   "source": [
    "Creating a patch iterator using the roi mask and sliding windows."
   ]
  },
  {
   "cell_type": "code",
   "execution_count": 8,
   "id": "b6b3e546-321f-4797-8649-cceeed9a5c28",
   "metadata": {},
   "outputs": [
    {
     "ename": "OSError",
     "evalue": "[Errno 28] No space left on device",
     "output_type": "error",
     "traceback": [
      "\u001b[0;31m---------------------------------------------------------------------------\u001b[0m",
      "\u001b[0;31mOSError\u001b[0m                                   Traceback (most recent call last)",
      "Cell \u001b[0;32mIn[8], line 1\u001b[0m\n\u001b[0;32m----> 1\u001b[0m iterator \u001b[38;5;241m=\u001b[39m \u001b[43mcreate_patch_iterator\u001b[49m\u001b[43m(\u001b[49m\u001b[43mimage_path\u001b[49m\u001b[38;5;241;43m=\u001b[39;49m\u001b[43mimage_path\u001b[49m\u001b[43m,\u001b[49m\n\u001b[1;32m      2\u001b[0m \u001b[43m                               \u001b[49m\u001b[43mmask_path\u001b[49m\u001b[38;5;241;43m=\u001b[39;49m\u001b[43mmask_path\u001b[49m\u001b[43m,\u001b[49m\n\u001b[1;32m      3\u001b[0m \u001b[43m                               \u001b[49m\u001b[43mpatch_configuration\u001b[49m\u001b[38;5;241;43m=\u001b[39;49m\u001b[43mpatch_configuration\u001b[49m\u001b[43m,\u001b[49m\n\u001b[1;32m      4\u001b[0m \u001b[43m                               \u001b[49m\u001b[43mcpus\u001b[49m\u001b[38;5;241;43m=\u001b[39;49m\u001b[38;5;241;43m4\u001b[39;49m\u001b[43m,\u001b[49m\n\u001b[1;32m      5\u001b[0m \u001b[43m                               \u001b[49m\u001b[43mbackend\u001b[49m\u001b[38;5;241;43m=\u001b[39;49m\u001b[38;5;124;43m'\u001b[39;49m\u001b[38;5;124;43masap\u001b[39;49m\u001b[38;5;124;43m'\u001b[39;49m\u001b[43m)\u001b[49m\n",
      "File \u001b[0;32m/venv/lib/python3.8/site-packages/wholeslidedata/iterators/patchiterator.py:46\u001b[0m, in \u001b[0;36mcreate_patch_iterator\u001b[0;34m(image_path, mask_path, patch_configuration, commander_class, producer_class, backend, context, cpus, producer_hooks)\u001b[0m\n\u001b[1;32m     35\u001b[0m \u001b[38;5;28;01mdef\u001b[39;00m \u001b[38;5;21mcreate_patch_iterator\u001b[39m(\n\u001b[1;32m     36\u001b[0m     image_path,\n\u001b[1;32m     37\u001b[0m     mask_path\u001b[38;5;241m=\u001b[39m\u001b[38;5;28;01mNone\u001b[39;00m,\n\u001b[0;32m   (...)\u001b[0m\n\u001b[1;32m     44\u001b[0m     producer_hooks\u001b[38;5;241m=\u001b[39m(),\n\u001b[1;32m     45\u001b[0m ):\n\u001b[0;32m---> 46\u001b[0m     commander \u001b[38;5;241m=\u001b[39m \u001b[43mcommander_class\u001b[49m\u001b[43m(\u001b[49m\n\u001b[1;32m     47\u001b[0m \u001b[43m        \u001b[49m\u001b[43mimage_path\u001b[49m\u001b[38;5;241;43m=\u001b[39;49m\u001b[43mimage_path\u001b[49m\u001b[43m,\u001b[49m\n\u001b[1;32m     48\u001b[0m \u001b[43m        \u001b[49m\u001b[43mbackend\u001b[49m\u001b[38;5;241;43m=\u001b[39;49m\u001b[43mbackend\u001b[49m\u001b[43m,\u001b[49m\n\u001b[1;32m     49\u001b[0m \u001b[43m        \u001b[49m\u001b[43mpatch_configuration\u001b[49m\u001b[38;5;241;43m=\u001b[39;49m\u001b[43mpatch_configuration\u001b[49m\u001b[43m,\u001b[49m\n\u001b[1;32m     50\u001b[0m \u001b[43m        \u001b[49m\u001b[43mmask_path\u001b[49m\u001b[38;5;241;43m=\u001b[39;49m\u001b[43mmask_path\u001b[49m\u001b[43m,\u001b[49m\n\u001b[1;32m     51\u001b[0m \u001b[43m    \u001b[49m\u001b[43m)\u001b[49m\n\u001b[1;32m     53\u001b[0m     producer \u001b[38;5;241m=\u001b[39m producer_class(\n\u001b[1;32m     54\u001b[0m         image_path\u001b[38;5;241m=\u001b[39mimage_path,\n\u001b[1;32m     55\u001b[0m         mask_path\u001b[38;5;241m=\u001b[39mmask_path,\n\u001b[1;32m     56\u001b[0m         backend\u001b[38;5;241m=\u001b[39mbackend,\n\u001b[1;32m     57\u001b[0m         producer_hooks\u001b[38;5;241m=\u001b[39mproducer_hooks,\n\u001b[1;32m     58\u001b[0m     )\n\u001b[1;32m     60\u001b[0m     buffer_iterator \u001b[38;5;241m=\u001b[39m buffer_iterator_factory(\n\u001b[1;32m     61\u001b[0m         cpus\u001b[38;5;241m=\u001b[39mcpus,\n\u001b[1;32m     62\u001b[0m         buffer_shapes\u001b[38;5;241m=\u001b[39mcommander\u001b[38;5;241m.\u001b[39mshapes,\n\u001b[0;32m   (...)\u001b[0m\n\u001b[1;32m     70\u001b[0m         buffer_iterator_class\u001b[38;5;241m=\u001b[39mPatchBufferIterator,\n\u001b[1;32m     71\u001b[0m     )\n",
      "File \u001b[0;32m/venv/lib/python3.8/site-packages/wholeslidedata/buffer/patchcommander.py:49\u001b[0m, in \u001b[0;36mPatchCommander.__init__\u001b[0;34m(self, image_path, mask_path, backend, patch_configuration)\u001b[0m\n\u001b[1;32m     46\u001b[0m wsi \u001b[38;5;241m=\u001b[39m \u001b[38;5;28;01mNone\u001b[39;00m\n\u001b[1;32m     47\u001b[0m \u001b[38;5;28;01mdel\u001b[39;00m wsi\n\u001b[0;32m---> 49\u001b[0m \u001b[38;5;28mself\u001b[39m\u001b[38;5;241m.\u001b[39m_info_queue \u001b[38;5;241m=\u001b[39m \u001b[43mQueue\u001b[49m\u001b[43m(\u001b[49m\u001b[43m)\u001b[49m\n\u001b[1;32m     50\u001b[0m \u001b[38;5;28mself\u001b[39m\u001b[38;5;241m.\u001b[39m_n_messages \u001b[38;5;241m=\u001b[39m \u001b[38;5;28;01mNone\u001b[39;00m\n\u001b[1;32m     51\u001b[0m \u001b[38;5;28mself\u001b[39m\u001b[38;5;241m.\u001b[39m_messages \u001b[38;5;241m=\u001b[39m []\n",
      "File \u001b[0;32m/usr/lib/python3.8/multiprocessing/context.py:103\u001b[0m, in \u001b[0;36mBaseContext.Queue\u001b[0;34m(self, maxsize)\u001b[0m\n\u001b[1;32m    101\u001b[0m \u001b[38;5;250m\u001b[39m\u001b[38;5;124;03m'''Returns a queue object'''\u001b[39;00m\n\u001b[1;32m    102\u001b[0m \u001b[38;5;28;01mfrom\u001b[39;00m \u001b[38;5;21;01m.\u001b[39;00m\u001b[38;5;21;01mqueues\u001b[39;00m \u001b[38;5;28;01mimport\u001b[39;00m Queue\n\u001b[0;32m--> 103\u001b[0m \u001b[38;5;28;01mreturn\u001b[39;00m \u001b[43mQueue\u001b[49m\u001b[43m(\u001b[49m\u001b[43mmaxsize\u001b[49m\u001b[43m,\u001b[49m\u001b[43m \u001b[49m\u001b[43mctx\u001b[49m\u001b[38;5;241;43m=\u001b[39;49m\u001b[38;5;28;43mself\u001b[39;49m\u001b[38;5;241;43m.\u001b[39;49m\u001b[43mget_context\u001b[49m\u001b[43m(\u001b[49m\u001b[43m)\u001b[49m\u001b[43m)\u001b[49m\n",
      "File \u001b[0;32m/usr/lib/python3.8/multiprocessing/queues.py:42\u001b[0m, in \u001b[0;36mQueue.__init__\u001b[0;34m(self, maxsize, ctx)\u001b[0m\n\u001b[1;32m     40\u001b[0m \u001b[38;5;28mself\u001b[39m\u001b[38;5;241m.\u001b[39m_maxsize \u001b[38;5;241m=\u001b[39m maxsize\n\u001b[1;32m     41\u001b[0m \u001b[38;5;28mself\u001b[39m\u001b[38;5;241m.\u001b[39m_reader, \u001b[38;5;28mself\u001b[39m\u001b[38;5;241m.\u001b[39m_writer \u001b[38;5;241m=\u001b[39m connection\u001b[38;5;241m.\u001b[39mPipe(duplex\u001b[38;5;241m=\u001b[39m\u001b[38;5;28;01mFalse\u001b[39;00m)\n\u001b[0;32m---> 42\u001b[0m \u001b[38;5;28mself\u001b[39m\u001b[38;5;241m.\u001b[39m_rlock \u001b[38;5;241m=\u001b[39m \u001b[43mctx\u001b[49m\u001b[38;5;241;43m.\u001b[39;49m\u001b[43mLock\u001b[49m\u001b[43m(\u001b[49m\u001b[43m)\u001b[49m\n\u001b[1;32m     43\u001b[0m \u001b[38;5;28mself\u001b[39m\u001b[38;5;241m.\u001b[39m_opid \u001b[38;5;241m=\u001b[39m os\u001b[38;5;241m.\u001b[39mgetpid()\n\u001b[1;32m     44\u001b[0m \u001b[38;5;28;01mif\u001b[39;00m sys\u001b[38;5;241m.\u001b[39mplatform \u001b[38;5;241m==\u001b[39m \u001b[38;5;124m'\u001b[39m\u001b[38;5;124mwin32\u001b[39m\u001b[38;5;124m'\u001b[39m:\n",
      "File \u001b[0;32m/usr/lib/python3.8/multiprocessing/context.py:68\u001b[0m, in \u001b[0;36mBaseContext.Lock\u001b[0;34m(self)\u001b[0m\n\u001b[1;32m     66\u001b[0m \u001b[38;5;250m\u001b[39m\u001b[38;5;124;03m'''Returns a non-recursive lock object'''\u001b[39;00m\n\u001b[1;32m     67\u001b[0m \u001b[38;5;28;01mfrom\u001b[39;00m \u001b[38;5;21;01m.\u001b[39;00m\u001b[38;5;21;01msynchronize\u001b[39;00m \u001b[38;5;28;01mimport\u001b[39;00m Lock\n\u001b[0;32m---> 68\u001b[0m \u001b[38;5;28;01mreturn\u001b[39;00m \u001b[43mLock\u001b[49m\u001b[43m(\u001b[49m\u001b[43mctx\u001b[49m\u001b[38;5;241;43m=\u001b[39;49m\u001b[38;5;28;43mself\u001b[39;49m\u001b[38;5;241;43m.\u001b[39;49m\u001b[43mget_context\u001b[49m\u001b[43m(\u001b[49m\u001b[43m)\u001b[49m\u001b[43m)\u001b[49m\n",
      "File \u001b[0;32m/usr/lib/python3.8/multiprocessing/synchronize.py:162\u001b[0m, in \u001b[0;36mLock.__init__\u001b[0;34m(self, ctx)\u001b[0m\n\u001b[1;32m    161\u001b[0m \u001b[38;5;28;01mdef\u001b[39;00m \u001b[38;5;21m__init__\u001b[39m(\u001b[38;5;28mself\u001b[39m, \u001b[38;5;241m*\u001b[39m, ctx):\n\u001b[0;32m--> 162\u001b[0m     \u001b[43mSemLock\u001b[49m\u001b[38;5;241;43m.\u001b[39;49m\u001b[38;5;21;43m__init__\u001b[39;49m\u001b[43m(\u001b[49m\u001b[38;5;28;43mself\u001b[39;49m\u001b[43m,\u001b[49m\u001b[43m \u001b[49m\u001b[43mSEMAPHORE\u001b[49m\u001b[43m,\u001b[49m\u001b[43m \u001b[49m\u001b[38;5;241;43m1\u001b[39;49m\u001b[43m,\u001b[49m\u001b[43m \u001b[49m\u001b[38;5;241;43m1\u001b[39;49m\u001b[43m,\u001b[49m\u001b[43m \u001b[49m\u001b[43mctx\u001b[49m\u001b[38;5;241;43m=\u001b[39;49m\u001b[43mctx\u001b[49m\u001b[43m)\u001b[49m\n",
      "File \u001b[0;32m/usr/lib/python3.8/multiprocessing/synchronize.py:57\u001b[0m, in \u001b[0;36mSemLock.__init__\u001b[0;34m(self, kind, value, maxvalue, ctx)\u001b[0m\n\u001b[1;32m     55\u001b[0m \u001b[38;5;28;01mfor\u001b[39;00m i \u001b[38;5;129;01min\u001b[39;00m \u001b[38;5;28mrange\u001b[39m(\u001b[38;5;241m100\u001b[39m):\n\u001b[1;32m     56\u001b[0m     \u001b[38;5;28;01mtry\u001b[39;00m:\n\u001b[0;32m---> 57\u001b[0m         sl \u001b[38;5;241m=\u001b[39m \u001b[38;5;28mself\u001b[39m\u001b[38;5;241m.\u001b[39m_semlock \u001b[38;5;241m=\u001b[39m \u001b[43m_multiprocessing\u001b[49m\u001b[38;5;241;43m.\u001b[39;49m\u001b[43mSemLock\u001b[49m\u001b[43m(\u001b[49m\n\u001b[1;32m     58\u001b[0m \u001b[43m            \u001b[49m\u001b[43mkind\u001b[49m\u001b[43m,\u001b[49m\u001b[43m \u001b[49m\u001b[43mvalue\u001b[49m\u001b[43m,\u001b[49m\u001b[43m \u001b[49m\u001b[43mmaxvalue\u001b[49m\u001b[43m,\u001b[49m\u001b[43m \u001b[49m\u001b[38;5;28;43mself\u001b[39;49m\u001b[38;5;241;43m.\u001b[39;49m\u001b[43m_make_name\u001b[49m\u001b[43m(\u001b[49m\u001b[43m)\u001b[49m\u001b[43m,\u001b[49m\n\u001b[1;32m     59\u001b[0m \u001b[43m            \u001b[49m\u001b[43munlink_now\u001b[49m\u001b[43m)\u001b[49m\n\u001b[1;32m     60\u001b[0m     \u001b[38;5;28;01mexcept\u001b[39;00m \u001b[38;5;167;01mFileExistsError\u001b[39;00m:\n\u001b[1;32m     61\u001b[0m         \u001b[38;5;28;01mpass\u001b[39;00m\n",
      "\u001b[0;31mOSError\u001b[0m: [Errno 28] No space left on device"
     ]
    }
   ],
   "source": [
    "iterator = create_patch_iterator(image_path=image_path,\n",
    "                               mask_path=mask_path,\n",
    "                               patch_configuration=patch_configuration,\n",
    "                               cpus=4,\n",
    "                               backend='asap')"
   ]
  },
  {
   "cell_type": "markdown",
   "id": "b9487fdd-67d7-4d1a-aff0-fbff7bb63b2e",
   "metadata": {},
   "source": [
    "Some useful functions."
   ]
  },
  {
   "cell_type": "code",
   "execution_count": null,
   "id": "9eb0e923-9a7d-4cca-924f-f6383a9cddcd",
   "metadata": {},
   "outputs": [],
   "source": [
    "def px_to_mm(px: int, spacing: float):\n",
    "    return px * spacing / 1000\n",
    "\n",
    "def to_wsd(points):\n",
    "    \"\"\"Convert list of coordinates into WSD points\"\"\"\n",
    "    new_points = []\n",
    "    for i, point in enumerate(points):\n",
    "        p = Point(\n",
    "            index=i,\n",
    "            label=Label(\"lymphocyte\", 1, color=\"blue\"),\n",
    "            coordinates=[point],\n",
    "        )\n",
    "        new_points.append(p)\n",
    "    return new_points\n",
    "\n",
    "def write_json_file(*, location, content):\n",
    "    # Writes a json file\n",
    "    with open(location, 'w') as f:\n",
    "        f.write(json.dumps(content, indent=4))"
   ]
  },
  {
   "cell_type": "markdown",
   "id": "e6511c62-3c21-4f7d-8dc7-2246459c8ec7",
   "metadata": {},
   "source": [
    "Run inference on an image with loaded model."
   ]
  },
  {
   "cell_type": "code",
   "execution_count": null,
   "id": "c9f7e6e3-5bb5-4dd7-a9d4-7097700691de",
   "metadata": {
    "tags": []
   },
   "outputs": [],
   "source": [
    "def inference(iterator, predictor, spacing, image_path, output_path, json_filename):\n",
    "    print(\"predicting...\")\n",
    "    output_dict = {\n",
    "        \"name\": \"lymphocytes\",\n",
    "        \"type\": \"Multiple points\",\n",
    "        \"version\": {\"major\": 1, \"minor\": 0},\n",
    "        \"points\": [],\n",
    "    }\n",
    "\n",
    "    annotations = []\n",
    "    counter = 0\n",
    "    \n",
    "    spacing_min = 0.25\n",
    "    ratio = spacing/spacing_min\n",
    "    with WholeSlideImage(image_path) as wsi:\n",
    "        spacing = wsi.get_real_spacing(spacing_min)\n",
    "\n",
    "\n",
    "    for x_batch, y_batch, info in tqdm(iterator):\n",
    "        x_batch = x_batch.squeeze(0)\n",
    "        y_batch = y_batch.squeeze(0)\n",
    "\n",
    "        predictions = predictor.predict_on_batch(x_batch)\n",
    "        for idx, prediction in enumerate(predictions):\n",
    "\n",
    "            c = info['x']\n",
    "            r = info['y']\n",
    "\n",
    "            for detections in prediction:\n",
    "                x, y, label, confidence = detections.values()\n",
    "\n",
    "                if x == 128 or y == 128:\n",
    "                    continue\n",
    "\n",
    "                if y_batch[idx][y][x] == 0:\n",
    "                    continue\n",
    "                \n",
    "                x = x*ratio + c # x is in spacing= 0.5 but c is in spacing = 0.25\n",
    "                y= y*ratio + r\n",
    "                prediction_record = {\n",
    "                    \"name\" : \"Point \"+str(counter),\n",
    "                    \"point\": [\n",
    "                        px_to_mm(x, spacing),\n",
    "                        px_to_mm(y, spacing),\n",
    "                        0.24199951445730394,\n",
    "                    ],\n",
    "                    \"probability\": confidence,\n",
    "                }\n",
    "                output_dict[\"points\"].append(prediction_record)\n",
    "                annotations.append((x, y))\n",
    "                counter += 1\n",
    "\n",
    "\n",
    "\n",
    "    print(f\"Predicted {len(annotations)} points\")\n",
    "    print(\"saving predictions...\")\n",
    "\n",
    "    # saving xml file\n",
    "    annotations_wsd = to_wsd(annotations)\n",
    "    xml_filename = 'points_results.xml'\n",
    "    output_path_xml = os.path.join(output_path,xml_filename)\n",
    "    write_point_set(\n",
    "        annotations_wsd,\n",
    "        output_path_xml,\n",
    "        label_color=\"blue\",\n",
    "    )\n",
    "\n",
    "        \n",
    "    # saving json file\n",
    "    output_path_json = os.path.join(output_path, json_filename)\n",
    "    write_json_file(\n",
    "        location=output_path_json,\n",
    "        content=output_dict\n",
    "    )\n",
    "\n",
    "    print(\"finished!\")"
   ]
  },
  {
   "cell_type": "code",
   "execution_count": null,
   "id": "7bf43390-c419-4b8a-9f5a-104cb8040592",
   "metadata": {},
   "outputs": [],
   "source": [
    "inference(\n",
    "    iterator=iterator,\n",
    "    predictor=model,\n",
    "    spacing = spacings[0],\n",
    "    image_path=image_path,\n",
    "    output_path=output_path,\n",
    "    json_filename=json_filename\n",
    ")\n",
    "\n",
    "iterator.stop()"
   ]
  },
  {
   "cell_type": "code",
   "execution_count": null,
   "id": "71124d71-9322-4cd8-b608-d80c1ea90e96",
   "metadata": {},
   "outputs": [],
   "source": []
  }
 ],
 "metadata": {
  "kernelspec": {
   "display_name": "venv",
   "language": "python",
   "name": "python3"
  },
  "language_info": {
   "codemirror_mode": {
    "name": "ipython",
    "version": 3
   },
   "file_extension": ".py",
   "mimetype": "text/x-python",
   "name": "python",
   "nbconvert_exporter": "python",
   "pygments_lexer": "ipython3",
   "version": "3.8.10"
  }
 },
 "nbformat": 4,
 "nbformat_minor": 5
}
