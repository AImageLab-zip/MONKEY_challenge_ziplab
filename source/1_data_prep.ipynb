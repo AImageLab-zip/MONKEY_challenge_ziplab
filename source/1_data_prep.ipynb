{
 "cells": [
  {
   "cell_type": "markdown",
   "id": "8fcb44ee-c8ee-4850-865d-c9fddf41ca93",
   "metadata": {},
   "source": [
    "## Step 1: Data Preparation"
   ]
  },
  {
   "cell_type": "code",
   "execution_count": 1,
   "id": "9b1df3f9-7b39-4fd9-ae4d-776c6655dc42",
   "metadata": {
    "collapsed": true,
    "jupyter": {
     "outputs_hidden": true
    },
    "tags": []
   },
   "outputs": [
    {
     "name": "stdout",
     "output_type": "stream",
     "text": [
      "Collecting git+https://github.com/DIAGNijmegen/pathology-whole-slide-data@main\n",
      "  Cloning https://github.com/DIAGNijmegen/pathology-whole-slide-data (to revision main) to /tmp/pip-req-build-god_spi0\n",
      "  Running command git clone --filter=blob:none --quiet https://github.com/DIAGNijmegen/pathology-whole-slide-data /tmp/pip-req-build-god_spi0\n",
      "  Resolved https://github.com/DIAGNijmegen/pathology-whole-slide-data to commit 1e4c6ca939c5e372a0b626739c24443f31bff505\n",
      "  Preparing metadata (setup.py) ... \u001b[?25ldone\n",
      "\u001b[?25hRequirement already satisfied: PyYAML>=5.4.1 in /venv/lib/python3.8/site-packages (from wholeslidedata==0.1.0) (6.0.2)\n",
      "Requirement already satisfied: concurrentbuffer>=0.0.8 in /venv/lib/python3.8/site-packages (from wholeslidedata==0.1.0) (0.0.8)\n",
      "Requirement already satisfied: dicfg==0.0.13 in /venv/lib/python3.8/site-packages (from wholeslidedata==0.1.0) (0.0.13)\n",
      "Requirement already satisfied: lxml>=4.6.3 in /venv/lib/python3.8/site-packages (from wholeslidedata==0.1.0) (5.3.0)\n",
      "Requirement already satisfied: matplotlib>=3.6.2 in /venv/lib/python3.8/site-packages (from wholeslidedata==0.1.0) (3.7.5)\n",
      "Requirement already satisfied: numpy>=1.20.2 in /venv/lib/python3.8/site-packages (from wholeslidedata==0.1.0) (1.24.4)\n",
      "Requirement already satisfied: opencv-python-headless>=4.4.0 in /venv/lib/python3.8/site-packages (from wholeslidedata==0.1.0) (4.10.0.84)\n",
      "Requirement already satisfied: rtree>=1.0.0 in /venv/lib/python3.8/site-packages (from wholeslidedata==0.1.0) (1.3.0)\n",
      "Requirement already satisfied: scikit-image>=0.17.2 in /venv/lib/python3.8/site-packages (from wholeslidedata==0.1.0) (0.21.0)\n",
      "Requirement already satisfied: scipy>=1.5.2 in /venv/lib/python3.8/site-packages (from wholeslidedata==0.1.0) (1.10.1)\n",
      "Requirement already satisfied: shapely>=1.7.1 in /venv/lib/python3.8/site-packages (from wholeslidedata==0.1.0) (2.0.6)\n",
      "Requirement already satisfied: sourcelib>=0.0.4 in /venv/lib/python3.8/site-packages (from wholeslidedata==0.1.0) (0.0.4)\n",
      "Requirement already satisfied: contourpy>=1.0.1 in /venv/lib/python3.8/site-packages (from matplotlib>=3.6.2->wholeslidedata==0.1.0) (1.1.1)\n",
      "Requirement already satisfied: cycler>=0.10 in /venv/lib/python3.8/site-packages (from matplotlib>=3.6.2->wholeslidedata==0.1.0) (0.12.1)\n",
      "Requirement already satisfied: fonttools>=4.22.0 in /venv/lib/python3.8/site-packages (from matplotlib>=3.6.2->wholeslidedata==0.1.0) (4.55.1)\n",
      "Requirement already satisfied: kiwisolver>=1.0.1 in /venv/lib/python3.8/site-packages (from matplotlib>=3.6.2->wholeslidedata==0.1.0) (1.4.7)\n",
      "Requirement already satisfied: packaging>=20.0 in /venv/lib/python3.8/site-packages (from matplotlib>=3.6.2->wholeslidedata==0.1.0) (24.2)\n",
      "Requirement already satisfied: pillow>=6.2.0 in /venv/lib/python3.8/site-packages (from matplotlib>=3.6.2->wholeslidedata==0.1.0) (9.5.0)\n",
      "Requirement already satisfied: pyparsing>=2.3.1 in /venv/lib/python3.8/site-packages (from matplotlib>=3.6.2->wholeslidedata==0.1.0) (3.1.4)\n",
      "Requirement already satisfied: python-dateutil>=2.7 in /venv/lib/python3.8/site-packages (from matplotlib>=3.6.2->wholeslidedata==0.1.0) (2.9.0.post0)\n",
      "Requirement already satisfied: importlib-resources>=3.2.0 in /venv/lib/python3.8/site-packages (from matplotlib>=3.6.2->wholeslidedata==0.1.0) (6.4.5)\n",
      "Requirement already satisfied: networkx>=2.8 in /venv/lib/python3.8/site-packages (from scikit-image>=0.17.2->wholeslidedata==0.1.0) (3.1)\n",
      "Requirement already satisfied: imageio>=2.27 in /venv/lib/python3.8/site-packages (from scikit-image>=0.17.2->wholeslidedata==0.1.0) (2.35.1)\n",
      "Requirement already satisfied: tifffile>=2022.8.12 in /venv/lib/python3.8/site-packages (from scikit-image>=0.17.2->wholeslidedata==0.1.0) (2023.7.10)\n",
      "Requirement already satisfied: PyWavelets>=1.1.1 in /venv/lib/python3.8/site-packages (from scikit-image>=0.17.2->wholeslidedata==0.1.0) (1.4.1)\n",
      "Requirement already satisfied: lazy_loader>=0.2 in /venv/lib/python3.8/site-packages (from scikit-image>=0.17.2->wholeslidedata==0.1.0) (0.4)\n",
      "Requirement already satisfied: zipp>=3.1.0 in /venv/lib/python3.8/site-packages (from importlib-resources>=3.2.0->matplotlib>=3.6.2->wholeslidedata==0.1.0) (3.20.2)\n",
      "Requirement already satisfied: six>=1.5 in /venv/lib/python3.8/site-packages (from python-dateutil>=2.7->matplotlib>=3.6.2->wholeslidedata==0.1.0) (1.16.0)\n"
     ]
    }
   ],
   "source": [
    "# install pathology-whole-slide-data\n",
    "!pip3 install git+https://github.com/DIAGNijmegen/pathology-whole-slide-data@main"
   ]
  },
  {
   "cell_type": "code",
   "execution_count": 2,
   "id": "b8f184a1-a394-4788-b192-983371eeaeed",
   "metadata": {},
   "outputs": [],
   "source": [
    "import os\n",
    "from utils.dot2polygon import dot2polygon\n",
    "import glob\n",
    "import yaml"
   ]
  },
  {
   "cell_type": "code",
   "execution_count": null,
   "id": "e47b3da1-7cfb-4b64-a44f-dda0c7924b7f",
   "metadata": {},
   "outputs": [],
   "source": [
    "# make a folder for converted annotations\n",
    "output_root = r'./data/annotations_polygon'\n",
    "if not(os.path.isdir(output_root)): os.mkdir (output_root) "
   ]
  },
  {
   "cell_type": "markdown",
   "id": "e5c6d2ad7babaf6b",
   "metadata": {},
   "source": [
    "Convert the dot annotation to polygon bounding boxes"
   ]
  },
  {
   "cell_type": "code",
   "execution_count": null,
   "id": "1cb6cc97-1893-4648-bee9-f2128e214c52",
   "metadata": {
    "tags": []
   },
   "outputs": [],
   "source": [
    "# convert dot annotations to polygon, single image\n",
    "\n",
    "xml_path = r'./data/annotations/DI_S02_P000001_combined.xml'\n",
    "output_path = r'./data/annotations_polygon/DI_S02_P000001_combined_polygon.xml'\n",
    "lymphocyte_half_box_size = 4.5 # the size of half of the bbox around the lymphocyte dot in um\n",
    "monocytes_half_box_size = 11.0 # the size of half of the bbox around the monocytes dot in um\n",
    "min_spacing = 0.25\n",
    "dot2polygon(xml_path, lymphocyte_half_box_size, monocytes_half_box_size, min_spacing, output_path)"
   ]
  },
  {
   "cell_type": "code",
   "execution_count": null,
   "id": "4ab2cd84-a475-4433-94b6-c1d259e1af07",
   "metadata": {},
   "outputs": [],
   "source": [
    "# # convert dot annotations to polygon, in a folder\n",
    "\n",
    "# annotation_dir = r'./data/annotations'\n",
    "# annotation_polygon_dir = r'./data/annotations_polygon'\n",
    "# annotation_list = glob.glob(os.path.join(annotation_dir,'*.xml'))\n",
    "# for xml_path in annotation_list:\n",
    "#     print(xml_path)\n",
    "#     output_path = os.path.join(annotation_polygon_dir,os.path.splitext(os.path.basename(xml_path))[0] + '_polygon' + os.path.splitext(os.path.basename(xml_path))[1])\n",
    "#     print(output_path)\n",
    "#     lymphocyte_half_box_size = 4.5 # the size of half of the bbox around the lymphocyte dot in um\n",
    "#     monocytes_half_box_size = 11.0 # the size of half of the bbox around the monocytes dot in um\n",
    "#     min_spacing = 0.25\n",
    "#     dot2polygon(xml_path, lymphocyte_half_box_size, monocytes_half_box_size, min_spacing, output_path)"
   ]
  },
  {
   "cell_type": "markdown",
   "id": "9ae78059-87df-470b-9e1b-ba682638612d",
   "metadata": {},
   "source": [
    "Creating the yaml config files for training."
   ]
  },
  {
   "cell_type": "code",
   "execution_count": null,
   "id": "a8fc5aaf-c068-4b8f-bf37-91a609a234d5",
   "metadata": {},
   "outputs": [],
   "source": [
    "def folders_to_yml(wsi_dir: str, \n",
    "                   wsa_dir: str,\n",
    "                   output_dir: str,\n",
    "                   output_name: str):\n",
    "\n",
    "    \"\"\"\n",
    "    Generate a yaml file to be used as WSD dataconfig from a folder of slides and a folder of annotation or mask files.\n",
    "    Assumes files use the same name for both the slides and masks.\n",
    "    \"\"\"\n",
    "    \n",
    "    wsa_list = glob.glob(wsa_dir)\n",
    "\n",
    "    yaml_dict = {'training': []}\n",
    "    # yaml_dict = {'training': [], 'validation': []}\n",
    "    for wsa in wsa_list:\n",
    "        patient_name = os.path.basename(wsa).split(os.path.basename(wsa_dir).split('*')[1])[0] # monocytes\n",
    "    #     print(patient_name)\n",
    "        if os.path.isfile(os.path.join(wsi_dir,patient_name + \"_PAS_CPG.tif\")):\n",
    "            wsi = os.path.join(wsi_dir, patient_name + \"_PAS_CPG.tif\")\n",
    "            print('match found:    ' , patient_name)\n",
    "            yaml_dict['training'].append(\n",
    "                    {\"wsa\": {\"path\": str(wsa)}, \"wsi\": {\"path\": str(wsi)}})\n",
    "\n",
    "            # # validation if needed\n",
    "            # yaml_dict['validation'].append(\n",
    "            #         {\"wsa\": {\"path\": str(wsa)}, \"wsi\": {\"path\": str(wsi)}})\n",
    "\n",
    "        else:\n",
    "            print('no match found:    ' , patient_name)\n",
    "\n",
    "    # make a folder for output\n",
    "    if not(os.path.isdir(output_dir)): os.mkdir (output_dir)\n",
    "\n",
    "\n",
    "    with open(os.path.join(output_dir,output_name), \"w\") as file:\n",
    "            yaml.safe_dump(yaml_dict, file)"
   ]
  },
  {
   "cell_type": "code",
   "execution_count": null,
   "id": "45e85653-a4b7-4977-a143-b15bad959828",
   "metadata": {},
   "outputs": [],
   "source": [
    "wsi_dir = r'./data/images'\n",
    "wsa_dir = r'./data/annotations_polygon/*_polygon.xml'\n",
    "output_dir = r'./configs'\n",
    "output_name = 'training_sample.yml'\n",
    "\n",
    "folders_to_yml(wsi_dir, \n",
    "               wsa_dir,\n",
    "               output_dir,\n",
    "               output_name)"
   ]
  },
  {
   "cell_type": "code",
   "execution_count": null,
   "id": "d6293657-c3e7-4813-88b0-70c77233b604",
   "metadata": {},
   "outputs": [],
   "source": []
  }
 ],
 "metadata": {
  "kernelspec": {
   "display_name": "venv",
   "language": "python",
   "name": "python3"
  },
  "language_info": {
   "codemirror_mode": {
    "name": "ipython",
    "version": 3
   },
   "file_extension": ".py",
   "mimetype": "text/x-python",
   "name": "python",
   "nbconvert_exporter": "python",
   "pygments_lexer": "ipython3",
   "version": "3.8.10"
  }
 },
 "nbformat": 4,
 "nbformat_minor": 5
}
