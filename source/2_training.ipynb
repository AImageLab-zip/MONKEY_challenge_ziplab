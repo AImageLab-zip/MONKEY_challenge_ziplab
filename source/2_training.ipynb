{
 "cells": [
  {
   "cell_type": "markdown",
   "id": "0179871a-d3c7-4d70-be2b-b2ea08608e98",
   "metadata": {},
   "source": [
    "## Step 2: Training a simple model"
   ]
  },
  {
   "cell_type": "code",
   "execution_count": 1,
   "id": "4188dd8a-b293-44e2-9da1-c6bfbe71ff67",
   "metadata": {
    "collapsed": true,
    "jupyter": {
     "outputs_hidden": true
    },
    "tags": []
   },
   "outputs": [
    {
     "name": "stdout",
     "output_type": "stream",
     "text": [
      "Collecting git+https://github.com/DIAGNijmegen/pathology-whole-slide-data@main\n",
      "  Cloning https://github.com/DIAGNijmegen/pathology-whole-slide-data (to revision main) to /tmp/pip-req-build-0bowo24x\n",
      "  Running command git clone --filter=blob:none --quiet https://github.com/DIAGNijmegen/pathology-whole-slide-data /tmp/pip-req-build-0bowo24x\n",
      "  Resolved https://github.com/DIAGNijmegen/pathology-whole-slide-data to commit 1e4c6ca939c5e372a0b626739c24443f31bff505\n",
      "  Preparing metadata (setup.py) ... \u001b[?25ldone\n",
      "\u001b[?25hRequirement already satisfied: PyYAML>=5.4.1 in /venv/lib/python3.8/site-packages (from wholeslidedata==0.1.0) (6.0.2)\n",
      "Requirement already satisfied: concurrentbuffer>=0.0.8 in /venv/lib/python3.8/site-packages (from wholeslidedata==0.1.0) (0.0.8)\n",
      "Requirement already satisfied: dicfg==0.0.13 in /venv/lib/python3.8/site-packages (from wholeslidedata==0.1.0) (0.0.13)\n",
      "Requirement already satisfied: lxml>=4.6.3 in /venv/lib/python3.8/site-packages (from wholeslidedata==0.1.0) (5.3.0)\n",
      "Requirement already satisfied: matplotlib>=3.6.2 in /venv/lib/python3.8/site-packages (from wholeslidedata==0.1.0) (3.7.5)\n",
      "Requirement already satisfied: numpy>=1.20.2 in /venv/lib/python3.8/site-packages (from wholeslidedata==0.1.0) (1.24.4)\n",
      "Requirement already satisfied: opencv-python-headless>=4.4.0 in /venv/lib/python3.8/site-packages (from wholeslidedata==0.1.0) (4.10.0.84)\n",
      "Requirement already satisfied: rtree>=1.0.0 in /venv/lib/python3.8/site-packages (from wholeslidedata==0.1.0) (1.3.0)\n",
      "Requirement already satisfied: scikit-image>=0.17.2 in /venv/lib/python3.8/site-packages (from wholeslidedata==0.1.0) (0.21.0)\n",
      "Requirement already satisfied: scipy>=1.5.2 in /venv/lib/python3.8/site-packages (from wholeslidedata==0.1.0) (1.10.1)\n",
      "Requirement already satisfied: shapely>=1.7.1 in /venv/lib/python3.8/site-packages (from wholeslidedata==0.1.0) (2.0.6)\n",
      "Requirement already satisfied: sourcelib>=0.0.4 in /venv/lib/python3.8/site-packages (from wholeslidedata==0.1.0) (0.0.4)\n",
      "Requirement already satisfied: contourpy>=1.0.1 in /venv/lib/python3.8/site-packages (from matplotlib>=3.6.2->wholeslidedata==0.1.0) (1.1.1)\n",
      "Requirement already satisfied: cycler>=0.10 in /venv/lib/python3.8/site-packages (from matplotlib>=3.6.2->wholeslidedata==0.1.0) (0.12.1)\n",
      "Requirement already satisfied: fonttools>=4.22.0 in /venv/lib/python3.8/site-packages (from matplotlib>=3.6.2->wholeslidedata==0.1.0) (4.55.1)\n",
      "Requirement already satisfied: kiwisolver>=1.0.1 in /venv/lib/python3.8/site-packages (from matplotlib>=3.6.2->wholeslidedata==0.1.0) (1.4.7)\n",
      "Requirement already satisfied: packaging>=20.0 in /venv/lib/python3.8/site-packages (from matplotlib>=3.6.2->wholeslidedata==0.1.0) (24.2)\n",
      "Requirement already satisfied: pillow>=6.2.0 in /venv/lib/python3.8/site-packages (from matplotlib>=3.6.2->wholeslidedata==0.1.0) (9.5.0)\n",
      "Requirement already satisfied: pyparsing>=2.3.1 in /venv/lib/python3.8/site-packages (from matplotlib>=3.6.2->wholeslidedata==0.1.0) (3.1.4)\n",
      "Requirement already satisfied: python-dateutil>=2.7 in /venv/lib/python3.8/site-packages (from matplotlib>=3.6.2->wholeslidedata==0.1.0) (2.9.0.post0)\n",
      "Requirement already satisfied: importlib-resources>=3.2.0 in /venv/lib/python3.8/site-packages (from matplotlib>=3.6.2->wholeslidedata==0.1.0) (6.4.5)\n",
      "Requirement already satisfied: networkx>=2.8 in /venv/lib/python3.8/site-packages (from scikit-image>=0.17.2->wholeslidedata==0.1.0) (3.1)\n",
      "Requirement already satisfied: imageio>=2.27 in /venv/lib/python3.8/site-packages (from scikit-image>=0.17.2->wholeslidedata==0.1.0) (2.35.1)\n",
      "Requirement already satisfied: tifffile>=2022.8.12 in /venv/lib/python3.8/site-packages (from scikit-image>=0.17.2->wholeslidedata==0.1.0) (2023.7.10)\n",
      "Requirement already satisfied: PyWavelets>=1.1.1 in /venv/lib/python3.8/site-packages (from scikit-image>=0.17.2->wholeslidedata==0.1.0) (1.4.1)\n",
      "Requirement already satisfied: lazy_loader>=0.2 in /venv/lib/python3.8/site-packages (from scikit-image>=0.17.2->wholeslidedata==0.1.0) (0.4)\n",
      "Requirement already satisfied: zipp>=3.1.0 in /venv/lib/python3.8/site-packages (from importlib-resources>=3.2.0->matplotlib>=3.6.2->wholeslidedata==0.1.0) (3.20.2)\n",
      "Requirement already satisfied: six>=1.5 in /venv/lib/python3.8/site-packages (from python-dateutil>=2.7->matplotlib>=3.6.2->wholeslidedata==0.1.0) (1.16.0)\n"
     ]
    }
   ],
   "source": [
    "# install pathology-whole-slide-data if needed\n",
    "!pip3 install git+https://github.com/DIAGNijmegen/pathology-whole-slide-data@main"
   ]
  },
  {
   "cell_type": "code",
   "execution_count": 2,
   "id": "4276a6c4-fdf6-4e30-ba95-ea101c4c52f1",
   "metadata": {
    "collapsed": true,
    "jupyter": {
     "outputs_hidden": true
    },
    "tags": []
   },
   "outputs": [
    {
     "name": "stdout",
     "output_type": "stream",
     "text": [
      "Looking in links: https://dl.fbaipublicfiles.com/detectron2/wheels/cu111/torch1.9/index.html\n",
      "Requirement already satisfied: detectron2 in /venv/lib/python3.8/site-packages (0.6+cu111)\n",
      "Requirement already satisfied: Pillow>=7.1 in /venv/lib/python3.8/site-packages (from detectron2) (9.5.0)\n",
      "Requirement already satisfied: matplotlib in /venv/lib/python3.8/site-packages (from detectron2) (3.7.5)\n",
      "Requirement already satisfied: pycocotools>=2.0.2 in /venv/lib/python3.8/site-packages (from detectron2) (2.0.7)\n",
      "Requirement already satisfied: termcolor>=1.1 in /venv/lib/python3.8/site-packages (from detectron2) (2.4.0)\n",
      "Requirement already satisfied: yacs>=0.1.8 in /venv/lib/python3.8/site-packages (from detectron2) (0.1.8)\n",
      "Requirement already satisfied: tabulate in /venv/lib/python3.8/site-packages (from detectron2) (0.9.0)\n",
      "Requirement already satisfied: cloudpickle in /venv/lib/python3.8/site-packages (from detectron2) (3.1.0)\n",
      "Requirement already satisfied: tqdm>4.29.0 in /venv/lib/python3.8/site-packages (from detectron2) (4.67.1)\n",
      "Requirement already satisfied: tensorboard in /venv/lib/python3.8/site-packages (from detectron2) (2.14.0)\n",
      "Requirement already satisfied: fvcore<0.1.6,>=0.1.5 in /venv/lib/python3.8/site-packages (from detectron2) (0.1.5.post20221221)\n",
      "Requirement already satisfied: iopath<0.1.10,>=0.1.7 in /venv/lib/python3.8/site-packages (from detectron2) (0.1.9)\n",
      "Requirement already satisfied: future in /venv/lib/python3.8/site-packages (from detectron2) (1.0.0)\n",
      "Requirement already satisfied: pydot in /venv/lib/python3.8/site-packages (from detectron2) (3.0.3)\n",
      "Requirement already satisfied: omegaconf>=2.1 in /venv/lib/python3.8/site-packages (from detectron2) (2.3.0)\n",
      "Requirement already satisfied: hydra-core>=1.1 in /venv/lib/python3.8/site-packages (from detectron2) (1.3.2)\n",
      "Requirement already satisfied: black==21.4b2 in /venv/lib/python3.8/site-packages (from detectron2) (21.4b2)\n",
      "Requirement already satisfied: click>=7.1.2 in /venv/lib/python3.8/site-packages (from black==21.4b2->detectron2) (8.1.7)\n",
      "Requirement already satisfied: appdirs in /venv/lib/python3.8/site-packages (from black==21.4b2->detectron2) (1.4.4)\n",
      "Requirement already satisfied: toml>=0.10.1 in /venv/lib/python3.8/site-packages (from black==21.4b2->detectron2) (0.10.2)\n",
      "Requirement already satisfied: regex>=2020.1.8 in /venv/lib/python3.8/site-packages (from black==21.4b2->detectron2) (2024.11.6)\n",
      "Requirement already satisfied: pathspec<1,>=0.8.1 in /venv/lib/python3.8/site-packages (from black==21.4b2->detectron2) (0.12.1)\n",
      "Requirement already satisfied: mypy-extensions>=0.4.3 in /venv/lib/python3.8/site-packages (from black==21.4b2->detectron2) (1.0.0)\n",
      "Requirement already satisfied: numpy in /venv/lib/python3.8/site-packages (from fvcore<0.1.6,>=0.1.5->detectron2) (1.24.4)\n",
      "Requirement already satisfied: pyyaml>=5.1 in /venv/lib/python3.8/site-packages (from fvcore<0.1.6,>=0.1.5->detectron2) (6.0.2)\n",
      "Requirement already satisfied: antlr4-python3-runtime==4.9.* in /venv/lib/python3.8/site-packages (from hydra-core>=1.1->detectron2) (4.9.3)\n",
      "Requirement already satisfied: packaging in /venv/lib/python3.8/site-packages (from hydra-core>=1.1->detectron2) (24.2)\n",
      "Requirement already satisfied: importlib-resources in /venv/lib/python3.8/site-packages (from hydra-core>=1.1->detectron2) (6.4.5)\n",
      "Requirement already satisfied: portalocker in /venv/lib/python3.8/site-packages (from iopath<0.1.10,>=0.1.7->detectron2) (3.0.0)\n",
      "Requirement already satisfied: contourpy>=1.0.1 in /venv/lib/python3.8/site-packages (from matplotlib->detectron2) (1.1.1)\n",
      "Requirement already satisfied: cycler>=0.10 in /venv/lib/python3.8/site-packages (from matplotlib->detectron2) (0.12.1)\n",
      "Requirement already satisfied: fonttools>=4.22.0 in /venv/lib/python3.8/site-packages (from matplotlib->detectron2) (4.55.1)\n",
      "Requirement already satisfied: kiwisolver>=1.0.1 in /venv/lib/python3.8/site-packages (from matplotlib->detectron2) (1.4.7)\n",
      "Requirement already satisfied: pyparsing>=2.3.1 in /venv/lib/python3.8/site-packages (from matplotlib->detectron2) (3.1.4)\n",
      "Requirement already satisfied: python-dateutil>=2.7 in /venv/lib/python3.8/site-packages (from matplotlib->detectron2) (2.9.0.post0)\n",
      "Requirement already satisfied: absl-py>=0.4 in /venv/lib/python3.8/site-packages (from tensorboard->detectron2) (2.1.0)\n",
      "Requirement already satisfied: grpcio>=1.48.2 in /venv/lib/python3.8/site-packages (from tensorboard->detectron2) (1.68.1)\n",
      "Requirement already satisfied: google-auth<3,>=1.6.3 in /venv/lib/python3.8/site-packages (from tensorboard->detectron2) (2.36.0)\n",
      "Requirement already satisfied: google-auth-oauthlib<1.1,>=0.5 in /venv/lib/python3.8/site-packages (from tensorboard->detectron2) (1.0.0)\n",
      "Requirement already satisfied: markdown>=2.6.8 in /venv/lib/python3.8/site-packages (from tensorboard->detectron2) (3.7)\n",
      "Requirement already satisfied: protobuf>=3.19.6 in /venv/lib/python3.8/site-packages (from tensorboard->detectron2) (5.29.0)\n",
      "Requirement already satisfied: requests<3,>=2.21.0 in /venv/lib/python3.8/site-packages (from tensorboard->detectron2) (2.32.3)\n",
      "Requirement already satisfied: setuptools>=41.0.0 in /venv/lib/python3.8/site-packages (from tensorboard->detectron2) (44.0.0)\n",
      "Requirement already satisfied: tensorboard-data-server<0.8.0,>=0.7.0 in /venv/lib/python3.8/site-packages (from tensorboard->detectron2) (0.7.2)\n",
      "Requirement already satisfied: werkzeug>=1.0.1 in /venv/lib/python3.8/site-packages (from tensorboard->detectron2) (3.0.6)\n",
      "Requirement already satisfied: wheel>=0.26 in /venv/lib/python3.8/site-packages (from tensorboard->detectron2) (0.45.1)\n",
      "Requirement already satisfied: cachetools<6.0,>=2.0.0 in /venv/lib/python3.8/site-packages (from google-auth<3,>=1.6.3->tensorboard->detectron2) (5.5.0)\n",
      "Requirement already satisfied: pyasn1-modules>=0.2.1 in /venv/lib/python3.8/site-packages (from google-auth<3,>=1.6.3->tensorboard->detectron2) (0.4.1)\n",
      "Requirement already satisfied: rsa<5,>=3.1.4 in /venv/lib/python3.8/site-packages (from google-auth<3,>=1.6.3->tensorboard->detectron2) (4.9)\n",
      "Requirement already satisfied: requests-oauthlib>=0.7.0 in /venv/lib/python3.8/site-packages (from google-auth-oauthlib<1.1,>=0.5->tensorboard->detectron2) (2.0.0)\n",
      "Requirement already satisfied: zipp>=3.1.0 in /venv/lib/python3.8/site-packages (from importlib-resources->hydra-core>=1.1->detectron2) (3.20.2)\n",
      "Requirement already satisfied: importlib-metadata>=4.4 in /venv/lib/python3.8/site-packages (from markdown>=2.6.8->tensorboard->detectron2) (8.5.0)\n",
      "Requirement already satisfied: six>=1.5 in /venv/lib/python3.8/site-packages (from python-dateutil>=2.7->matplotlib->detectron2) (1.16.0)\n",
      "Requirement already satisfied: charset-normalizer<4,>=2 in /venv/lib/python3.8/site-packages (from requests<3,>=2.21.0->tensorboard->detectron2) (3.4.0)\n",
      "Requirement already satisfied: idna<4,>=2.5 in /venv/lib/python3.8/site-packages (from requests<3,>=2.21.0->tensorboard->detectron2) (3.10)\n",
      "Requirement already satisfied: urllib3<3,>=1.21.1 in /venv/lib/python3.8/site-packages (from requests<3,>=2.21.0->tensorboard->detectron2) (2.2.3)\n",
      "Requirement already satisfied: certifi>=2017.4.17 in /venv/lib/python3.8/site-packages (from requests<3,>=2.21.0->tensorboard->detectron2) (2024.8.30)\n",
      "Requirement already satisfied: MarkupSafe>=2.1.1 in /venv/lib/python3.8/site-packages (from werkzeug>=1.0.1->tensorboard->detectron2) (2.1.5)\n",
      "Requirement already satisfied: pyasn1<0.7.0,>=0.4.6 in /venv/lib/python3.8/site-packages (from pyasn1-modules>=0.2.1->google-auth<3,>=1.6.3->tensorboard->detectron2) (0.6.1)\n",
      "Requirement already satisfied: oauthlib>=3.0.0 in /venv/lib/python3.8/site-packages (from requests-oauthlib>=0.7.0->google-auth-oauthlib<1.1,>=0.5->tensorboard->detectron2) (3.2.2)\n"
     ]
    }
   ],
   "source": [
    "# install detectron2 if needed\n",
    "!pip3 install detectron2 -f https://dl.fbaipublicfiles.com/detectron2/wheels/cu111/torch1.9/index.html"
   ]
  },
  {
   "cell_type": "code",
   "execution_count": 3,
   "id": "d90089db-4fff-4251-8ee0-a8df720937ab",
   "metadata": {},
   "outputs": [],
   "source": [
    "import os\n",
    "import time\n",
    "import numpy as np\n",
    "from pathlib import Path\n",
    "from matplotlib import pyplot as plt\n",
    "\n",
    "from wholeslidedata.interoperability.detectron2.iterator import WholeSlideDetectron2Iterator\n",
    "from wholeslidedata.interoperability.detectron2.trainer import WholeSlideDectectron2Trainer\n",
    "from wholeslidedata.interoperability.detectron2.predictor import Detectron2DetectionPredictor\n",
    "from wholeslidedata.iterators import create_batch_iterator\n",
    "from wholeslidedata.visualization.plotting import plot_boxes\n",
    "\n",
    "from detectron2 import model_zoo\n",
    "from detectron2.config import get_cfg\n",
    "from detectron2.modeling import build_model"
   ]
  },
  {
   "cell_type": "markdown",
   "id": "428f7c17-9756-4142-8fb7-7d6ff53fc43d",
   "metadata": {},
   "source": [
    "Setting up the training configuration and parameters (can also be defined in a separate yaml file)."
   ]
  },
  {
   "cell_type": "code",
   "execution_count": null,
   "id": "183114ea-d20b-4e6f-b443-1613114991d1",
   "metadata": {},
   "outputs": [],
   "source": [
    "user_config = {\n",
    "    'wholeslidedata': {\n",
    "        'default': {\n",
    "            'yaml_source': \"./configs/training_sample.yml\",\n",
    "#             \"seed\": 42,\n",
    "            \"image_backend\": \"asap\",\n",
    "            'labels': {\n",
    "                \"ROI\": 0,\n",
    "                \"lymphocytes\": 1\n",
    "            },\n",
    "        \n",
    "            \n",
    "            'batch_shape': {\n",
    "                'batch_size': 10,\n",
    "                'spacing': 0.5,\n",
    "                'shape': [128,128,3],\n",
    "                'y_shape': [1000, 6],\n",
    "            },\n",
    "            \n",
    "            \n",
    "            \n",
    "            \"annotation_parser\": {\n",
    "                \"sample_label_names\": ['roi'],\n",
    "            },\n",
    "            \n",
    "            'point_sampler_name': \"RandomPointSampler\",\n",
    "            'point_sampler': {\n",
    "                \"buffer\": {'spacing': \"${batch_shape.spacing}\", 'value': -64},\n",
    "            },\n",
    "            \n",
    "            'patch_label_sampler_name': 'DetectionPatchLabelSampler',\n",
    "            'patch_label_sampler': {\n",
    "                \"max_number_objects\": 1000,\n",
    "                \"detection_labels\": ['lymphocytes'],\n",
    "                    \n",
    "            },\n",
    "            \n",
    "        }\n",
    "    }\n",
    "}"
   ]
  },
  {
   "cell_type": "markdown",
   "id": "31603a59-991b-4e0d-aced-058783ff6bba",
   "metadata": {},
   "source": [
    "Creating the batch generator."
   ]
  },
  {
   "cell_type": "code",
   "execution_count": null,
   "id": "cb240196-0e67-4afd-a2ca-29fab92df1dd",
   "metadata": {},
   "outputs": [],
   "source": [
    "training_batch_generator = create_batch_iterator(\n",
    "    user_config=user_config,\n",
    "#     user_config=r'./configs/training_config.yml',\n",
    "    mode='training',\n",
    "    cpus=1,\n",
    "    iterator_class=WholeSlideDetectron2Iterator,\n",
    ")"
   ]
  },
  {
   "cell_type": "markdown",
   "id": "2d0cc18a-2294-4e61-9fd3-faac4cd0eb5c",
   "metadata": {},
   "source": [
    "Visualizing a sample batch."
   ]
  },
  {
   "cell_type": "code",
   "execution_count": null,
   "id": "a4547b5d-0aa5-425f-ac02-c551799df90f",
   "metadata": {},
   "outputs": [],
   "source": [
    "batch_dicts = next(training_batch_generator)\n",
    "\n",
    "for _ in range(20):\n",
    "    batch_dicts = next(training_batch_generator)\n",
    "    fig, ax = plt.subplots(1,8, figsize=(20,10))\n",
    "    for i in range(8):\n",
    "        patch = batch_dicts[i]['image'].cpu().detach().numpy().transpose(1,2,0).astype('uint8')\n",
    "        _boxes =  batch_dicts[i]['instances'].gt_boxes.tensor.cpu().detach().numpy()\n",
    "        boxes = np.ones((len(_boxes), 6))\n",
    "        boxes[..., :4] = _boxes\n",
    "        max_width, max_height = batch_dicts[i]['instances'].image_size\n",
    "        ax[i].imshow(patch)\n",
    "        plot_boxes(boxes, max_width=max_width, max_height=max_height, axes=ax[i])\n",
    "    plt.show()"
   ]
  },
  {
   "cell_type": "markdown",
   "id": "e20fe383-a488-4a36-baed-dd7bfe71594a",
   "metadata": {},
   "source": [
    "Creating the output folder for saving the model and results."
   ]
  },
  {
   "cell_type": "code",
   "execution_count": null,
   "id": "fb23526f-0964-4222-8728-1b0be9a36c08",
   "metadata": {},
   "outputs": [],
   "source": [
    "output_folder = Path('./outputs')\n",
    "if not(os.path.isdir(output_folder)): os.mkdir (output_folder) \n",
    "cpus = 4"
   ]
  },
  {
   "cell_type": "markdown",
   "id": "afd02ed9-9554-4ff6-b572-7cd8cdabb2cf",
   "metadata": {},
   "source": [
    "# Train the model"
   ]
  },
  {
   "cell_type": "code",
   "execution_count": null,
   "id": "7cb884b8-72d1-4619-a53a-63aa81064273",
   "metadata": {
    "collapsed": true,
    "jupyter": {
     "outputs_hidden": true
    },
    "tags": []
   },
   "outputs": [],
   "source": [
    "cfg = get_cfg()\n",
    "# using faster rcnn architecture\n",
    "cfg.merge_from_file(\n",
    "    model_zoo.get_config_file(\"COCO-Detection/faster_rcnn_X_101_32x8d_FPN_3x.yaml\")\n",
    ")\n",
    "\n",
    "\n",
    "cfg.DATASETS.TRAIN = (\"detection_dataset2\",)\n",
    "cfg.DATASETS.TEST = ()\n",
    "cfg.DATALOADER.NUM_WORKERS = 1\n",
    "\n",
    "cfg.MODEL.ROI_HEADS.BATCH_SIZE_PER_IMAGE = 512\n",
    "cfg.MODEL.ROI_HEADS.NUM_CLASSES = 1\n",
    "cfg.MODEL.ANCHOR_GENERATOR.SIZES = [[16, 24, 32]]\n",
    "\n",
    "cfg.SOLVER.IMS_PER_BATCH = 10\n",
    "cfg.SOLVER.BASE_LR = 0.001  # pick a good LR\n",
    "cfg.SOLVER.MAX_ITER = 2000  # 2000 iterations seems good enough for this toy dataset; you may need to train longer for a practical dataset\n",
    "cfg.SOLVER.STEPS = (10, 100, 250)\n",
    "cfg.SOLVER.WARMUP_ITERS = 0\n",
    "cfg.SOLVER.GAMMA = 0.5\n",
    "\n",
    "cfg.OUTPUT_DIR = str(output_folder)\n",
    "output_folder.mkdir(parents=True, exist_ok=True)\n",
    "\n",
    "\n",
    "model = build_model(cfg)\n",
    "pytorch_total_params = sum(p.numel() for p in model.parameters() if p.requires_grad)\n",
    "print(\"Parameter Count:\\n\" + str(pytorch_total_params))\n",
    "\n",
    "trainer = WholeSlideDectectron2Trainer(cfg, user_config=user_config, cpus=cpus)\n",
    "trainer.resume_or_load(resume=False)\n",
    "trainer.train()"
   ]
  },
  {
   "cell_type": "markdown",
   "id": "c9af434d-a60d-45b9-b230-5384126283e3",
   "metadata": {},
   "source": [
    "Evaluation."
   ]
  },
  {
   "cell_type": "code",
   "execution_count": null,
   "id": "636aa5d3-e3c5-4f0f-b9ef-75f8c96c17c4",
   "metadata": {},
   "outputs": [],
   "source": [
    "cfg = get_cfg()\n",
    "\n",
    "cfg.merge_from_file(\n",
    "    model_zoo.get_config_file(\"COCO-Detection/faster_rcnn_X_101_32x8d_FPN_3x.yaml\")\n",
    ")\n",
    "\n",
    "\n",
    "cfg.DATASETS.TRAIN = (\"detection_dataset2\",)\n",
    "cfg.DATASETS.TEST = ()\n",
    "cfg.DATALOADER.NUM_WORKERS = 1\n",
    "\n",
    "cfg.MODEL.ROI_HEADS.BATCH_SIZE_PER_IMAGE = 256  \n",
    "cfg.MODEL.ROI_HEADS.NUM_CLASSES = 1\n",
    "cfg.MODEL.ANCHOR_GENERATOR.SIZES = [[16, 24, 32]]\n",
    "\n",
    "cfg.SOLVER.IMS_PER_BATCH = 10\n",
    "cfg.SOLVER.BASE_LR = 0.001  # pick a good LR\n",
    "cfg.SOLVER.MAX_ITER = 2000  # 300 iterations seems good enough for this toy dataset; you may need to train longer for a practical dataset\n",
    "cfg.SOLVER.WARMUP_ITERS = 0\n",
    "cfg.SOLVER.GAMMA = 0.5\n",
    "\n",
    "cfg.MODEL.ROI_HEADS.NMS_THRESH_TEST = 0.1\n",
    "\n",
    "cfg.OUTPUT_DIR = str(output_folder)\n",
    "output_folder.mkdir(parents=True, exist_ok=True)\n",
    "\n",
    "cfg.MODEL.WEIGHTS = os.path.join(output_folder, \"model_final.pth\")\n",
    "\n",
    "model = build_model(cfg)\n",
    "pytorch_total_params = sum(p.numel() for p in model.parameters() if p.requires_grad)\n",
    "print(\"Parameter Count:\\n\" + str(pytorch_total_params))"
   ]
  },
  {
   "cell_type": "code",
   "execution_count": null,
   "id": "a752e325-2376-44ea-b432-4ee983dca331",
   "metadata": {},
   "outputs": [],
   "source": [
    "predictor = Detectron2DetectionPredictor(cfg)\n",
    "with create_batch_iterator(\n",
    "    user_config=user_config,\n",
    "    mode='training',\n",
    "    cpus=4,\n",
    ") as training_batch_generator:\n",
    "    for _ in range(10):\n",
    "        fig, ax = plt.subplots(1,10, figsize=(20,10))\n",
    "        batch_x, batch_y, info = next(training_batch_generator)\n",
    "        predicted_batch = predictor.predict_on_batch(batch_x)\n",
    "        for i in range(10):\n",
    "            patch = batch_x[i]\n",
    "            boxes =  predicted_batch[i]['boxes']\n",
    "            confidences = predicted_batch[i]['confidences']\n",
    "            filtered_boxes = []\n",
    "            for box, confidence in zip(boxes, confidences):\n",
    "                if confidence > 0.3:\n",
    "                    filtered_boxes.append(box)\n",
    "            ax[i].imshow(patch)\n",
    "            plot_boxes(filtered_boxes, max_width=64, max_height=64, axes=ax[i])\n",
    "        plt.show()"
   ]
  }
 ],
 "metadata": {
  "kernelspec": {
   "display_name": "venv",
   "language": "python",
   "name": "python3"
  },
  "language_info": {
   "codemirror_mode": {
    "name": "ipython",
    "version": 3
   },
   "file_extension": ".py",
   "mimetype": "text/x-python",
   "name": "python",
   "nbconvert_exporter": "python",
   "pygments_lexer": "ipython3",
   "version": "3.8.10"
  }
 },
 "nbformat": 4,
 "nbformat_minor": 5
}
